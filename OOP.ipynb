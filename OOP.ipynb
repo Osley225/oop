{
 "cells": [
  {
   "cell_type": "markdown",
   "id": "069aafe0-571d-4b02-b911-e65620ce967f",
   "metadata": {},
   "source": []
  },
  {
   "cell_type": "code",
   "execution_count": 4,
   "id": "4a0175c3-40d5-4b4c-90e8-9560b98d9ea3",
   "metadata": {},
   "outputs": [
    {
     "name": "stdout",
     "output_type": "stream",
     "text": [
      "Employee name osley\n",
      "employee staffno  23\n"
     ]
    }
   ],
   "source": [
    "class employee:\n",
    "    def __init__(self,name ,staffno):\n",
    "        self.__name = name\n",
    "        self.__staffno =staffno\n",
    "        \n",
    "    def showDetails(self):\n",
    "        print(\"Employee name \" + self.__name )\n",
    "        print(\"employee staffno \" , self.__staffno)\n",
    "mystaff = employee(\"osley\", 23)\n",
    "mystaff.showDetails()\n",
    "        \n",
    "        \n",
    "        "
   ]
  },
  {
   "cell_type": "code",
   "execution_count": null,
   "id": "bc8ebb0c-6cff-4822-b264-c2cedf4af15c",
   "metadata": {},
   "outputs": [],
   "source": []
  }
 ],
 "metadata": {
  "kernelspec": {
   "display_name": "Python 3 (ipykernel)",
   "language": "python",
   "name": "python3"
  },
  "language_info": {
   "codemirror_mode": {
    "name": "ipython",
    "version": 3
   },
   "file_extension": ".py",
   "mimetype": "text/x-python",
   "name": "python",
   "nbconvert_exporter": "python",
   "pygments_lexer": "ipython3",
   "version": "3.13.5"
  }
 },
 "nbformat": 4,
 "nbformat_minor": 5
}
